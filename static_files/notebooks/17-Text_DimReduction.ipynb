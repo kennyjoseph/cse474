{
 "cells": [
  {
   "cell_type": "markdown",
   "id": "dressed-storm",
   "metadata": {},
   "source": [
    "# Handling Text Data\n",
    "\n",
    "Below are a few examples of how to play with text data. We'll walk through some exercises in class with this!"
   ]
  },
  {
   "cell_type": "code",
   "execution_count": 99,
   "id": "prepared-roads",
   "metadata": {},
   "outputs": [],
   "source": [
    "import pandas as pd\n",
    "\n",
    "text_data = pd.read_csv(\"pa3_orig/Bills Mafia.csv\")"
   ]
  },
  {
   "cell_type": "code",
   "execution_count": 100,
   "id": "neural-server",
   "metadata": {},
   "outputs": [
    {
     "data": {
      "text/html": [
       "<div>\n",
       "<style scoped>\n",
       "    .dataframe tbody tr th:only-of-type {\n",
       "        vertical-align: middle;\n",
       "    }\n",
       "\n",
       "    .dataframe tbody tr th {\n",
       "        vertical-align: top;\n",
       "    }\n",
       "\n",
       "    .dataframe thead th {\n",
       "        text-align: right;\n",
       "    }\n",
       "</style>\n",
       "<table border=\"1\" class=\"dataframe\">\n",
       "  <thead>\n",
       "    <tr style=\"text-align: right;\">\n",
       "      <th></th>\n",
       "      <th>id</th>\n",
       "      <th>text</th>\n",
       "      <th>label</th>\n",
       "    </tr>\n",
       "  </thead>\n",
       "  <tbody>\n",
       "    <tr>\n",
       "      <th>0</th>\n",
       "      <td>1423946923560640514</td>\n",
       "      <td>I haven’t seen a single story about a vaccinat...</td>\n",
       "      <td>NaN</td>\n",
       "    </tr>\n",
       "    <tr>\n",
       "      <th>1</th>\n",
       "      <td>1415395068102467588</td>\n",
       "      <td>WHAT IS GRAPHENE OXIDE? Main Ingredient in Pfi...</td>\n",
       "      <td>NaN</td>\n",
       "    </tr>\n",
       "    <tr>\n",
       "      <th>2</th>\n",
       "      <td>1395622329376444416</td>\n",
       "      <td>MO: Vaccine appointments available at Walgreen...</td>\n",
       "      <td>NaN</td>\n",
       "    </tr>\n",
       "    <tr>\n",
       "      <th>3</th>\n",
       "      <td>1378272239687065610</td>\n",
       "      <td>PETITION: No to mandatory vaccination for the ...</td>\n",
       "      <td>NaN</td>\n",
       "    </tr>\n",
       "    <tr>\n",
       "      <th>4</th>\n",
       "      <td>1425352057050091521</td>\n",
       "      <td>CDC açıkladı: Moderna ve Pfizer-BioNTech aşısı...</td>\n",
       "      <td>NaN</td>\n",
       "    </tr>\n",
       "  </tbody>\n",
       "</table>\n",
       "</div>"
      ],
      "text/plain": [
       "                    id                                               text  \\\n",
       "0  1423946923560640514  I haven’t seen a single story about a vaccinat...   \n",
       "1  1415395068102467588  WHAT IS GRAPHENE OXIDE? Main Ingredient in Pfi...   \n",
       "2  1395622329376444416  MO: Vaccine appointments available at Walgreen...   \n",
       "3  1378272239687065610  PETITION: No to mandatory vaccination for the ...   \n",
       "4  1425352057050091521  CDC açıkladı: Moderna ve Pfizer-BioNTech aşısı...   \n",
       "\n",
       "   label  \n",
       "0    NaN  \n",
       "1    NaN  \n",
       "2    NaN  \n",
       "3    NaN  \n",
       "4    NaN  "
      ]
     },
     "execution_count": 100,
     "metadata": {},
     "output_type": "execute_result"
    }
   ],
   "source": [
    "text_data.head()"
   ]
  },
  {
   "cell_type": "code",
   "execution_count": 101,
   "id": "chemical-armstrong",
   "metadata": {},
   "outputs": [],
   "source": [
    "documents = [t for t in text_data.text]"
   ]
  },
  {
   "cell_type": "code",
   "execution_count": 103,
   "id": "civilian-quick",
   "metadata": {},
   "outputs": [
    {
     "data": {
      "text/plain": [
       "'I haven’t seen a single story about a vaccinated person who caught Covid and wished they hadn’t got the vaccine. So weird. 🤔'"
      ]
     },
     "execution_count": 103,
     "metadata": {},
     "output_type": "execute_result"
    }
   ],
   "source": [
    "documents[0]"
   ]
  },
  {
   "cell_type": "code",
   "execution_count": 104,
   "id": "instrumental-coalition",
   "metadata": {},
   "outputs": [
    {
     "name": "stdout",
     "output_type": "stream",
     "text": [
      "1586\n",
      "First ten features: 000, 03, 05, 050, 06, 07719, 102, 104, 11, 117\n",
      "Sample Doc: I haven’t seen a single story about a vaccinated person who caught Covid and wished they hadn’t got the vaccine. So weird. 🤔\n",
      "Sample Doc Features: haven, seen, single, story, about, vaccinated, person, who, caught, covid, and, wished, they, hadn, got, the, vaccine, so, weird\n"
     ]
    }
   ],
   "source": [
    "from sklearn.feature_extraction.text import CountVectorizer\n",
    "\n",
    "def fit_vectorizer(vectorizer, sample_doc_index=0, documents= documents):\n",
    "    X = vectorizer.fit_transform(documents)\n",
    "    features = vectorizer.get_feature_names()\n",
    "    print(len(vectorizer.get_feature_names()))\n",
    "    print(\"First ten features: {}\".format(\", \".join(features[:10])))\n",
    "    print(\"Sample Doc: {}\".format(documents[sample_doc_index]))\n",
    "    print(\"Sample Doc Features: {}\".format(\", \".join([features[i] for i in X[doc_index].nonzero()[1]])))\n",
    "    return X, features\n",
    "\n",
    "X, features = fit_vectorizer(CountVectorizer(analyzer='word'))"
   ]
  },
  {
   "cell_type": "markdown",
   "id": "level-crossing",
   "metadata": {},
   "source": [
    "Things we also might thing we want:\n",
    "\n",
    "- Filtering out stuff (what? Why?)\n",
    "- Characters instead of words (why?)\n",
    "- Ngrams (huh? Why?)\n",
    "- ... what else?"
   ]
  },
  {
   "cell_type": "code",
   "execution_count": 105,
   "id": "beneficial-couple",
   "metadata": {},
   "outputs": [
    {
     "name": "stdout",
     "output_type": "stream",
     "text": [
      "15\n",
      "First ten features: 19, 19 vaccine, amp, covid, covid 19, covid 19 vaccine, don, just, mandatory, mandatory vaccination\n",
      "Sample Doc: I haven’t seen a single story about a vaccinated person who caught Covid and wished they hadn’t got the vaccine. So weird. 🤔\n",
      "Sample Doc Features: vaccinated, covid, vaccine\n"
     ]
    }
   ],
   "source": [
    "X, features = fit_vectorizer(CountVectorizer(analyzer=\"word\",\n",
    "                    ngram_range=(1, 3), \n",
    "                    min_df=10,\n",
    "                    max_df=0.75, stop_words='english'))"
   ]
  },
  {
   "cell_type": "code",
   "execution_count": 106,
   "id": "organized-twelve",
   "metadata": {},
   "outputs": [
    {
     "name": "stdout",
     "output_type": "stream",
     "text": [
      "1186\n",
      "First ten features:  #,  #c,  #co,  &,  &a,  &am,  &amp,  &amp;,  -,  1\n",
      "Sample Doc: I haven’t seen a single story about a vaccinated person who caught Covid and wished they hadn’t got the vaccine. So weird. 🤔\n",
      "Sample Doc Features: i ,  h, ha, av, ve, en, n’, ’t,  s, se, ee, n , a , si, ng, gl, le, st, to, or, ry, y , ab, bo, ou, ut, na, at, te, ed, d ,  p, pe, rs, so, on,  w, wh, ho, o ,  c, ca, au, ug, gh, ht, co, ov, vi, id, an, nd, wi, is, sh, he, th, ey, ad,  g, go, ot, e., . , we, ei, ir, rd, d.,  ha, hav, ave, ven, n’t, ’t ,  se, en , n a,  a , a s,  si, ing, le , e s,  st, tor, ory, ry , y a,  ab, abo, bou, out, ut , t a, a v, ina, nat, ate, ted, ed ,  pe, per, ers, son, on ,  wh, who, ho ,  ca, ugh, ght, t c,  co, cov, ovi, vid, id , d a,  an, and, nd , d w,  wi, ish, d t,  th, the, t g,  go, ot , t t, he , e v, ine, e. , . s,  so, so ,  we,  hav, have, n’t , tory, ory ,  abo, abou, bout, out , a va, cina, inat, nate, ated, ted ,  who, who ,  cov, covi, ovid, vid ,  and, and , ed t, d th,  the, t th, the , he v, e va, cine,  have, tory ,  abou, about, bout , a vac, ccina, cinat, inate, nated, ated ,  who ,  covi, covid, ovid ,  and , t the,  the , the v, he va, e vac, ccine,  about, about , a vacc, accina, ccinat, cinate, inated, nated ,  covid, covid , t the ,  the v, the va, he vac, e vacc, accine\n"
     ]
    }
   ],
   "source": [
    "\n",
    "char_vectorizer = CountVectorizer(analyzer='char', \n",
    "                                  ngram_range=(2, 6),\n",
    "                                    min_df=10, max_df=0.75)\n",
    "X, features = fit_vectorizer(char_vectorizer)"
   ]
  },
  {
   "cell_type": "code",
   "execution_count": 107,
   "id": "changing-seven",
   "metadata": {},
   "outputs": [],
   "source": [
    "import spacy\n",
    "\n",
    "nlp = spacy.load(\"en_core_web_sm\")\n",
    "\n",
    "def spacy_tokenizer(tweet):\n",
    "    return [\"{}\".format(c.lemma_) for c in nlp(tweet)]"
   ]
  },
  {
   "cell_type": "code",
   "execution_count": 108,
   "id": "olympic-trigger",
   "metadata": {},
   "outputs": [
    {
     "name": "stdout",
     "output_type": "stream",
     "text": [
      "1496\n",
      "First ten features: \n",
      ", \n",
      "\n",
      ", \n",
      " ,  , !, \", #, %, &, '\n",
      "Sample Doc: I haven’t seen a single story about a vaccinated person who caught Covid and wished they hadn’t got the vaccine. So weird. 🤔\n",
      "Sample Doc Features: I, have, not, see, a, single, story, about, vaccinated, person, who, catch, covid, and, wish, they, get, the, vaccine, ., so, weird, 🤔\n"
     ]
    }
   ],
   "source": [
    "vectorizer = CountVectorizer(tokenizer=spacy_tokenizer)\n",
    "X, features = fit_vectorizer(vectorizer)"
   ]
  },
  {
   "cell_type": "markdown",
   "id": "attended-sheriff",
   "metadata": {},
   "source": [
    "# Dimensionality Reduction"
   ]
  },
  {
   "cell_type": "markdown",
   "id": "modular-myrtle",
   "metadata": {},
   "source": [
    "## Toy Example (from Varun)"
   ]
  },
  {
   "cell_type": "code",
   "execution_count": 53,
   "id": "twenty-garlic",
   "metadata": {},
   "outputs": [],
   "source": [
    "import numpy as np\n",
    "import math\n",
    "import matplotlib.pyplot as plt\n",
    "from sklearn.preprocessing import scale"
   ]
  },
  {
   "cell_type": "code",
   "execution_count": 54,
   "id": "established-blues",
   "metadata": {},
   "outputs": [
    {
     "data": {
      "image/png": "[encoded data removed]",
      "text/plain": [
       "<Figure size 576x576 with 1 Axes>"
      ]
     },
     "metadata": {
      "needs_background": "light"
     },
     "output_type": "display_data"
    }
   ],
   "source": [
    "# First generate some data\n",
    "mu = np.array([0,0])\n",
    "Sigma = np.array([[ 46.28249177,  26.12496001],\n",
    "       [ 26.12496001,  19.55457642]])\n",
    "X = np.random.multivariate_normal(mu,Sigma,1000)\n",
    "fig = plt.figure(figsize=[8,8])\n",
    "plt.scatter(X[:,0],X[:,1])\n",
    "plt.xlabel('x', fontsize=12)\n",
    "plt.ylabel('y', fontsize=12)\n",
    "plt.grid(axis='both')"
   ]
  },
  {
   "cell_type": "code",
   "execution_count": 55,
   "id": "annoying-complement",
   "metadata": {},
   "outputs": [
    {
     "name": "stdout",
     "output_type": "stream",
     "text": [
      "[62.26319119  3.573877  ]\n"
     ]
    },
    {
     "data": {
      "text/plain": [
       "array([[ 0.85305734, -0.52181718],\n",
       "       [ 0.52181718,  0.85305734]])"
      ]
     },
     "execution_count": 55,
     "metadata": {},
     "output_type": "execute_result"
    }
   ],
   "source": [
    "# perform PCA\n",
    "L,U=np.linalg.eig(Sigma)\n",
    "# eigenvalues\n",
    "print(L)\n",
    "# eigenvectors\n",
    "U"
   ]
  },
  {
   "cell_type": "code",
   "execution_count": 56,
   "id": "activated-draft",
   "metadata": {},
   "outputs": [
    {
     "data": {
      "image/png": "[encoded data removed]",
      "text/plain": [
       "<Figure size 576x576 with 1 Axes>"
      ]
     },
     "metadata": {
      "needs_background": "light"
     },
     "output_type": "display_data"
    }
   ],
   "source": [
    "# first plot the eigenvectors\n",
    "ah=0.1 # size of arrow head\n",
    "f=1.1 # axes range\n",
    "\n",
    "plt.figure(figsize=(8,8))\n",
    "plt.subplot(111,aspect='equal')\n",
    "plt.arrow(0,0,U[0,0],U[1,0],color='r',linewidth=2,head_width=ah,head_length=ah)\n",
    "plt.arrow(0,0,U[0,1],U[1,1],color='r',linewidth=2,head_width=ah,head_length=ah)\n",
    "plt.text(f*U[0,0],f*U[1,0],r'Eigenvector 1, $\\vec{v_1}$ =  %.2f $\\vec{x}$ + %.2f $\\vec{y}$' % (U[0,0],U[1,0]), fontsize=15)\n",
    "plt.text(f*U[0,1],f*U[1,1],r'Eigenvector 2, $\\vec{v_1}$ =  %.2f $\\vec{x}$ + %.2f $\\vec{y}$' % (U[0,1],U[1,1]), fontsize=15)\n",
    "plt.xlim([-f,f])\n",
    "plt.ylim([-f,f])\n",
    "plt.xlabel('x',fontsize=15)\n",
    "plt.ylabel('y',fontsize=15)\n",
    "plt.grid()\n",
    "plt.show()"
   ]
  },
  {
   "cell_type": "code",
   "execution_count": 62,
   "id": "documentary-principle",
   "metadata": {},
   "outputs": [
    {
     "data": {
      "text/plain": [
       "(6.731221989551624, 4.117504307401351)"
      ]
     },
     "execution_count": 62,
     "metadata": {},
     "output_type": "execute_result"
    }
   ],
   "source": [
    "U[0,0]*math.sqrt(L[0]),U[1,0]*math.sqrt(L[0])"
   ]
  },
  {
   "cell_type": "code",
   "execution_count": 68,
   "id": "amateur-howard",
   "metadata": {},
   "outputs": [
    {
     "data": {
      "image/png": "[encoded data removed]",
      "text/plain": [
       "<Figure size 576x576 with 1 Axes>"
      ]
     },
     "metadata": {
      "needs_background": "light"
     },
     "output_type": "display_data"
    }
   ],
   "source": [
    "# plot the eigenvectors with the data\n",
    "plt.figure(figsize=(8,8))\n",
    "plt.plot(X[:,0],X[:,1],'bo',markersize=5,zorder=0,)\n",
    "plt.axis('equal')\n",
    "plt.grid()\n",
    "plt.title('Principal Components (eigenvectors) of random data', fontsize=12)\n",
    "plt.xlabel('x', fontsize=12)\n",
    "plt.ylabel('y', fontsize=12)\n",
    "\n",
    "plt.arrow(0,0,U[0,0]*math.sqrt(L[0]),U[1,0]*math.sqrt(L[0]),color='r',linewidth=2,head_width=1,head_length=1)\n",
    "plt.arrow(0,0,U[0,1]*math.sqrt(L[1]),U[1,1]*math.sqrt(L[1]),color='r',linewidth=2,head_width=1,head_length=1)\n",
    "plt.show()"
   ]
  },
  {
   "cell_type": "code",
   "execution_count": 69,
   "id": "frequent-thinking",
   "metadata": {},
   "outputs": [
    {
     "data": {
      "image/png": "[encoded data removed]",
      "text/plain": [
       "<Figure size 576x576 with 1 Axes>"
      ]
     },
     "metadata": {
      "needs_background": "light"
     },
     "output_type": "display_data"
    }
   ],
   "source": [
    "# projecting data onto the principal components (no dimensionality reduction here)\n",
    "Z = np.dot(X,U)\n",
    "plt.figure(figsize=(8,8))\n",
    "plt.axis('equal')\n",
    "plt.grid()\n",
    "plt.plot(Z[:,0],Z[:,1],'bo',markersize=5)\n",
    "plt.xlabel('Principal Component 1',fontsize=15)\n",
    "plt.ylabel('Principal Component 2',fontsize=15)\n",
    "plt.show()"
   ]
  },
  {
   "cell_type": "code",
   "execution_count": 70,
   "id": "combined-effect",
   "metadata": {},
   "outputs": [
    {
     "data": {
      "image/png": "[encoded data removed]",
      "text/plain": [
       "<Figure size 576x576 with 1 Axes>"
      ]
     },
     "metadata": {
      "needs_background": "light"
     },
     "output_type": "display_data"
    }
   ],
   "source": [
    "# projecting data onto the first principal component\n",
    "Z = np.dot(X,U[:,1])\n",
    "plt.figure(figsize=(8,8))\n",
    "plt.axis('equal')\n",
    "plt.grid()\n",
    "plt.plot(Z,np.zeros([len(Z),]),'bo',markersize=5)\n",
    "plt.xlabel('Principal Component 1',fontsize=15)\n",
    "#plt.ylabel('Principal Component 2',fontsize=15)\n",
    "plt.show()"
   ]
  },
  {
   "cell_type": "markdown",
   "id": "authorized-bangladesh",
   "metadata": {},
   "source": [
    "# Applying PCA to text data: An exercise"
   ]
  },
  {
   "cell_type": "code",
   "execution_count": 109,
   "id": "aerial-utility",
   "metadata": {},
   "outputs": [],
   "source": [
    "from sklearn.decomposition import PCA"
   ]
  },
  {
   "cell_type": "code",
   "execution_count": 110,
   "id": "quarterly-terrorism",
   "metadata": {},
   "outputs": [],
   "source": [
    "data = pd.read_csv(\"notebooks/programming_assignments/474_s22_assignments/assignment1/part2_data.csv\")"
   ]
  },
  {
   "cell_type": "code",
   "execution_count": 111,
   "id": "painful-happiness",
   "metadata": {},
   "outputs": [
    {
     "data": {
      "text/html": [
       "<div>\n",
       "<style scoped>\n",
       "    .dataframe tbody tr th:only-of-type {\n",
       "        vertical-align: middle;\n",
       "    }\n",
       "\n",
       "    .dataframe tbody tr th {\n",
       "        vertical-align: top;\n",
       "    }\n",
       "\n",
       "    .dataframe thead th {\n",
       "        text-align: right;\n",
       "    }\n",
       "</style>\n",
       "<table border=\"1\" class=\"dataframe\">\n",
       "  <thead>\n",
       "    <tr style=\"text-align: right;\">\n",
       "      <th></th>\n",
       "      <th>created_utc</th>\n",
       "      <th>is_crosspostable</th>\n",
       "      <th>is_self</th>\n",
       "      <th>is_video</th>\n",
       "      <th>locked</th>\n",
       "      <th>media_only</th>\n",
       "      <th>over_18</th>\n",
       "      <th>score</th>\n",
       "      <th>subreddit_id</th>\n",
       "      <th>subreddit_name_prefixed</th>\n",
       "      <th>...</th>\n",
       "      <th>title</th>\n",
       "      <th>permalink</th>\n",
       "      <th>total_awards_received</th>\n",
       "      <th>downs</th>\n",
       "      <th>gilded</th>\n",
       "      <th>num_comments</th>\n",
       "      <th>num_crossposts</th>\n",
       "      <th>num_reports</th>\n",
       "      <th>ups</th>\n",
       "      <th>author_name</th>\n",
       "    </tr>\n",
       "  </thead>\n",
       "  <tbody>\n",
       "    <tr>\n",
       "      <th>0</th>\n",
       "      <td>1.582163e+09</td>\n",
       "      <td>False</td>\n",
       "      <td>True</td>\n",
       "      <td>False</td>\n",
       "      <td>False</td>\n",
       "      <td>False</td>\n",
       "      <td>False</td>\n",
       "      <td>146606</td>\n",
       "      <td>t5_2qh72</td>\n",
       "      <td>r/Jokes</td>\n",
       "      <td>...</td>\n",
       "      <td>Sad News: The founder of /r/jokes has passed away</td>\n",
       "      <td>/r/Jokes/comments/f6lii3/sad_news_the_founder_...</td>\n",
       "      <td>200</td>\n",
       "      <td>0</td>\n",
       "      <td>5</td>\n",
       "      <td>1699</td>\n",
       "      <td>9</td>\n",
       "      <td>NaN</td>\n",
       "      <td>146606</td>\n",
       "      <td>error521</td>\n",
       "    </tr>\n",
       "    <tr>\n",
       "      <th>1</th>\n",
       "      <td>1.511295e+09</td>\n",
       "      <td>False</td>\n",
       "      <td>True</td>\n",
       "      <td>False</td>\n",
       "      <td>False</td>\n",
       "      <td>False</td>\n",
       "      <td>False</td>\n",
       "      <td>137607</td>\n",
       "      <td>t5_2qh72</td>\n",
       "      <td>r/Jokes</td>\n",
       "      <td>...</td>\n",
       "      <td>Calm down about the Net Neutrality thing...</td>\n",
       "      <td>/r/Jokes/comments/7ekt23/calm_down_about_the_n...</td>\n",
       "      <td>15</td>\n",
       "      <td>0</td>\n",
       "      <td>2</td>\n",
       "      <td>1614</td>\n",
       "      <td>2</td>\n",
       "      <td>NaN</td>\n",
       "      <td>137607</td>\n",
       "      <td>Victorinox2</td>\n",
       "    </tr>\n",
       "    <tr>\n",
       "      <th>2</th>\n",
       "      <td>1.499278e+09</td>\n",
       "      <td>False</td>\n",
       "      <td>True</td>\n",
       "      <td>False</td>\n",
       "      <td>False</td>\n",
       "      <td>False</td>\n",
       "      <td>False</td>\n",
       "      <td>108795</td>\n",
       "      <td>t5_2qh72</td>\n",
       "      <td>r/Jokes</td>\n",
       "      <td>...</td>\n",
       "      <td>V</td>\n",
       "      <td>/r/Jokes/comments/6lfqep/v/</td>\n",
       "      <td>29</td>\n",
       "      <td>0</td>\n",
       "      <td>7</td>\n",
       "      <td>1360</td>\n",
       "      <td>1</td>\n",
       "      <td>NaN</td>\n",
       "      <td>108795</td>\n",
       "      <td>MadGo</td>\n",
       "    </tr>\n",
       "    <tr>\n",
       "      <th>3</th>\n",
       "      <td>1.565449e+09</td>\n",
       "      <td>False</td>\n",
       "      <td>True</td>\n",
       "      <td>False</td>\n",
       "      <td>False</td>\n",
       "      <td>False</td>\n",
       "      <td>True</td>\n",
       "      <td>105444</td>\n",
       "      <td>t5_2qh72</td>\n",
       "      <td>r/Jokes</td>\n",
       "      <td>...</td>\n",
       "      <td>If your surprised that Jeffrey Epstein commite...</td>\n",
       "      <td>/r/Jokes/comments/coj45m/if_your_surprised_tha...</td>\n",
       "      <td>48</td>\n",
       "      <td>0</td>\n",
       "      <td>11</td>\n",
       "      <td>2418</td>\n",
       "      <td>7</td>\n",
       "      <td>NaN</td>\n",
       "      <td>105444</td>\n",
       "      <td>williseeyoutonight</td>\n",
       "    </tr>\n",
       "    <tr>\n",
       "      <th>4</th>\n",
       "      <td>1.539007e+09</td>\n",
       "      <td>False</td>\n",
       "      <td>True</td>\n",
       "      <td>False</td>\n",
       "      <td>False</td>\n",
       "      <td>False</td>\n",
       "      <td>False</td>\n",
       "      <td>100954</td>\n",
       "      <td>t5_2qh72</td>\n",
       "      <td>r/Jokes</td>\n",
       "      <td>...</td>\n",
       "      <td>A new Navy recruit has his first day on the su...</td>\n",
       "      <td>/r/Jokes/comments/9mf1cz/a_new_navy_recruit_ha...</td>\n",
       "      <td>25</td>\n",
       "      <td>0</td>\n",
       "      <td>9</td>\n",
       "      <td>772</td>\n",
       "      <td>6</td>\n",
       "      <td>NaN</td>\n",
       "      <td>100954</td>\n",
       "      <td>Ckarini</td>\n",
       "    </tr>\n",
       "  </tbody>\n",
       "</table>\n",
       "<p>5 rows × 21 columns</p>\n",
       "</div>"
      ],
      "text/plain": [
       "    created_utc  is_crosspostable  is_self  is_video  locked  media_only  \\\n",
       "0  1.582163e+09             False     True     False   False       False   \n",
       "1  1.511295e+09             False     True     False   False       False   \n",
       "2  1.499278e+09             False     True     False   False       False   \n",
       "3  1.565449e+09             False     True     False   False       False   \n",
       "4  1.539007e+09             False     True     False   False       False   \n",
       "\n",
       "   over_18   score subreddit_id subreddit_name_prefixed  ...  \\\n",
       "0    False  146606     t5_2qh72                 r/Jokes  ...   \n",
       "1    False  137607     t5_2qh72                 r/Jokes  ...   \n",
       "2    False  108795     t5_2qh72                 r/Jokes  ...   \n",
       "3     True  105444     t5_2qh72                 r/Jokes  ...   \n",
       "4    False  100954     t5_2qh72                 r/Jokes  ...   \n",
       "\n",
       "                                               title  \\\n",
       "0  Sad News: The founder of /r/jokes has passed away   \n",
       "1        Calm down about the Net Neutrality thing...   \n",
       "2                                                  V   \n",
       "3  If your surprised that Jeffrey Epstein commite...   \n",
       "4  A new Navy recruit has his first day on the su...   \n",
       "\n",
       "                                           permalink total_awards_received  \\\n",
       "0  /r/Jokes/comments/f6lii3/sad_news_the_founder_...                   200   \n",
       "1  /r/Jokes/comments/7ekt23/calm_down_about_the_n...                    15   \n",
       "2                        /r/Jokes/comments/6lfqep/v/                    29   \n",
       "3  /r/Jokes/comments/coj45m/if_your_surprised_tha...                    48   \n",
       "4  /r/Jokes/comments/9mf1cz/a_new_navy_recruit_ha...                    25   \n",
       "\n",
       "   downs  gilded  num_comments  num_crossposts  num_reports     ups  \\\n",
       "0      0       5          1699               9          NaN  146606   \n",
       "1      0       2          1614               2          NaN  137607   \n",
       "2      0       7          1360               1          NaN  108795   \n",
       "3      0      11          2418               7          NaN  105444   \n",
       "4      0       9           772               6          NaN  100954   \n",
       "\n",
       "          author_name  \n",
       "0            error521  \n",
       "1         Victorinox2  \n",
       "2               MadGo  \n",
       "3  williseeyoutonight  \n",
       "4             Ckarini  \n",
       "\n",
       "[5 rows x 21 columns]"
      ]
     },
     "execution_count": 111,
     "metadata": {},
     "output_type": "execute_result"
    }
   ],
   "source": [
    "data.head()"
   ]
  },
  {
   "cell_type": "code",
   "execution_count": 112,
   "id": "transsexual-perth",
   "metadata": {},
   "outputs": [
    {
     "name": "stdout",
     "output_type": "stream",
     "text": [
      "4385\n",
      "First ten features: 00, 000, 000 000, 000 people, 000 year, 000 year old, 000 years, 10, 10 000, 10 year\n",
      "Sample Doc: Sad News: The founder of /r/jokes has passed away\n",
      "Sample Doc Features: sad, news, founder, jokes, passed, away, passed away\n"
     ]
    }
   ],
   "source": [
    "X, features = fit_vectorizer(CountVectorizer(analyzer=\"word\",\n",
    "                    ngram_range=(1, 3), \n",
    "                    min_df=10,\n",
    "                    max_df=0.75, stop_words='english'),\n",
    "                    documents = data.title)"
   ]
  },
  {
   "cell_type": "code",
   "execution_count": 114,
   "id": "conventional-container",
   "metadata": {},
   "outputs": [
    {
     "data": {
      "text/plain": [
       "(22968, (22968, 4385), 4385)"
      ]
     },
     "execution_count": 114,
     "metadata": {},
     "output_type": "execute_result"
    }
   ],
   "source": [
    "len(data), X.shape, len(features)"
   ]
  },
  {
   "cell_type": "code",
   "execution_count": 83,
   "id": "accessory-member",
   "metadata": {},
   "outputs": [
    {
     "name": "stdout",
     "output_type": "stream",
     "text": [
      "[0.00862574 0.00802593 0.00671485 0.00617165 0.00592767 0.00550524\n",
      " 0.00543801 0.00515872 0.00486338 0.00459951]\n",
      "[39.32616771 37.93421342 34.69778603 33.26473823 32.60058205 31.41749398\n",
      " 31.22506739 30.41265079 29.52926968 28.71701003]\n"
     ]
    }
   ],
   "source": [
    "pca = PCA(n_components=10)\n",
    "pca.fit(X.todense())\n",
    "print(pca.explained_variance_ratio_)\n",
    "print(pca.singular_values_)"
   ]
  },
  {
   "cell_type": "code",
   "execution_count": 90,
   "id": "bulgarian-cross",
   "metadata": {},
   "outputs": [],
   "source": [
    "components = pca.components_"
   ]
  },
  {
   "cell_type": "code",
   "execution_count": 96,
   "id": "catholic-original",
   "metadata": {},
   "outputs": [],
   "source": [
    "df = pd.DataFrame({\"feature\": features, \"PC1\": components[0,:], \"PC2\": components[1,:]})"
   ]
  },
  {
   "cell_type": "code",
   "execution_count": 98,
   "id": "celtic-bible",
   "metadata": {},
   "outputs": [
    {
     "data": {
      "text/html": [
       "<div>\n",
       "<style scoped>\n",
       "    .dataframe tbody tr th:only-of-type {\n",
       "        vertical-align: middle;\n",
       "    }\n",
       "\n",
       "    .dataframe tbody tr th {\n",
       "        vertical-align: top;\n",
       "    }\n",
       "\n",
       "    .dataframe thead th {\n",
       "        text-align: right;\n",
       "    }\n",
       "</style>\n",
       "<table border=\"1\" class=\"dataframe\">\n",
       "  <thead>\n",
       "    <tr style=\"text-align: right;\">\n",
       "      <th></th>\n",
       "      <th>feature</th>\n",
       "      <th>PC1</th>\n",
       "      <th>PC2</th>\n",
       "    </tr>\n",
       "  </thead>\n",
       "  <tbody>\n",
       "    <tr>\n",
       "      <th>4327</th>\n",
       "      <td>wp</td>\n",
       "      <td>0.304592</td>\n",
       "      <td>-0.309737</td>\n",
       "    </tr>\n",
       "    <tr>\n",
       "      <th>4356</th>\n",
       "      <td>years</td>\n",
       "      <td>0.338600</td>\n",
       "      <td>-0.272100</td>\n",
       "    </tr>\n",
       "    <tr>\n",
       "      <th>2703</th>\n",
       "      <td>old</td>\n",
       "      <td>0.220882</td>\n",
       "      <td>-0.183783</td>\n",
       "    </tr>\n",
       "    <tr>\n",
       "      <th>2132</th>\n",
       "      <td>just</td>\n",
       "      <td>0.177622</td>\n",
       "      <td>-0.171714</td>\n",
       "    </tr>\n",
       "    <tr>\n",
       "      <th>4350</th>\n",
       "      <td>year</td>\n",
       "      <td>0.221643</td>\n",
       "      <td>-0.156942</td>\n",
       "    </tr>\n",
       "    <tr>\n",
       "      <th>...</th>\n",
       "      <td>...</td>\n",
       "      <td>...</td>\n",
       "      <td>...</td>\n",
       "    </tr>\n",
       "    <tr>\n",
       "      <th>3795</th>\n",
       "      <td>suggests</td>\n",
       "      <td>0.065526</td>\n",
       "      <td>0.089920</td>\n",
       "    </tr>\n",
       "    <tr>\n",
       "      <th>1537</th>\n",
       "      <td>finds</td>\n",
       "      <td>0.068925</td>\n",
       "      <td>0.094339</td>\n",
       "    </tr>\n",
       "    <tr>\n",
       "      <th>2628</th>\n",
       "      <td>new study</td>\n",
       "      <td>0.129852</td>\n",
       "      <td>0.181214</td>\n",
       "    </tr>\n",
       "    <tr>\n",
       "      <th>3765</th>\n",
       "      <td>study</td>\n",
       "      <td>0.195533</td>\n",
       "      <td>0.267339</td>\n",
       "    </tr>\n",
       "    <tr>\n",
       "      <th>2624</th>\n",
       "      <td>new</td>\n",
       "      <td>0.474328</td>\n",
       "      <td>0.650516</td>\n",
       "    </tr>\n",
       "  </tbody>\n",
       "</table>\n",
       "<p>4385 rows × 3 columns</p>\n",
       "</div>"
      ],
      "text/plain": [
       "        feature       PC1       PC2\n",
       "4327         wp  0.304592 -0.309737\n",
       "4356      years  0.338600 -0.272100\n",
       "2703        old  0.220882 -0.183783\n",
       "2132       just  0.177622 -0.171714\n",
       "4350       year  0.221643 -0.156942\n",
       "...         ...       ...       ...\n",
       "3795   suggests  0.065526  0.089920\n",
       "1537      finds  0.068925  0.094339\n",
       "2628  new study  0.129852  0.181214\n",
       "3765      study  0.195533  0.267339\n",
       "2624        new  0.474328  0.650516\n",
       "\n",
       "[4385 rows x 3 columns]"
      ]
     },
     "execution_count": 98,
     "metadata": {},
     "output_type": "execute_result"
    }
   ],
   "source": [
    "df.sort_values(\"PC2\")"
   ]
  },
  {
   "cell_type": "code",
   "execution_count": null,
   "id": "organizational-joshua",
   "metadata": {},
   "outputs": [],
   "source": []
  }
 ],
 "metadata": {
  "kernelspec": {
   "display_name": "myenv",
   "language": "python",
   "name": "myenv"
  },
  "language_info": {
   "codemirror_mode": {
    "name": "ipython",
    "version": 3
   },
   "file_extension": ".py",
   "mimetype": "text/x-python",
   "name": "python",
   "nbconvert_exporter": "python",
   "pygments_lexer": "ipython3",
   "version": "3.8.5"
  }
 },
 "nbformat": 4,
 "nbformat_minor": 5
}
